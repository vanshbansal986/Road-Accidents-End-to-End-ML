{
 "cells": [
  {
   "cell_type": "code",
   "execution_count": 2,
   "metadata": {},
   "outputs": [],
   "source": [
    "import matplotlib\n",
    "import numpy as np\n",
    "import pandas as pd\n",
    "import matplotlib.pyplot as plt\n",
    "from sklearn.model_selection import train_test_split\n",
    "from sklearn.compose import ColumnTransformer\n",
    "from sklearn.impute import SimpleImputer, KNNImputer\n",
    "from sklearn.preprocessing import OneHotEncoder\n",
    "from sklearn.preprocessing import MinMaxScaler\n",
    "from sklearn.pipeline import Pipeline,make_pipeline\n",
    "from sklearn.feature_selection import SelectKBest,chi2\n",
    "from sklearn.tree import DecisionTreeClassifier\n",
    "#from ydata_profiling import ProfileReport\n",
    "import seaborn as sns\n",
    "import matplotlib.pyplot as plt\n",
    "from sklearn.metrics import accuracy_score\n",
    "import scipy.stats as stats"
   ]
  },
  {
   "cell_type": "code",
   "execution_count": 3,
   "metadata": {},
   "outputs": [],
   "source": [
    "\n",
    "# Define the size of the sample\n",
    "sample_size = 600000\n",
    "chunk_size = 10000  # Adjust based on your system's memory capacity\n",
    "\n",
    "# Initialize an empty list to store sampled rows\n",
    "sampled_rows = []\n",
    "\n",
    "# Iterate over the CSV file in chunks\n",
    "for chunk in pd.read_csv('US_Accidents_March23 copy.csv', chunksize=chunk_size):\n",
    "    # Randomly sample rows from the current chunk\n",
    "    sampled_chunk = chunk.sample(n=min(sample_size, len(chunk)))\n",
    "    sampled_rows.append(sampled_chunk)\n",
    "    sample_size -= len(sampled_chunk)\n",
    "    if sample_size <= 0:\n",
    "        break\n",
    "\n",
    "# Concatenate all sampled chunks into a single DataFrame\n",
    "sampled_data = pd.concat(sampled_rows)\n",
    "\n",
    "# Save the sampled data to a new CSV file\n",
    "sampled_data.to_csv('data.csv', index=False)\n"
   ]
  },
  {
   "cell_type": "code",
   "execution_count": 4,
   "metadata": {},
   "outputs": [
    {
     "data": {
      "text/html": [
       "<div>\n",
       "<style scoped>\n",
       "    .dataframe tbody tr th:only-of-type {\n",
       "        vertical-align: middle;\n",
       "    }\n",
       "\n",
       "    .dataframe tbody tr th {\n",
       "        vertical-align: top;\n",
       "    }\n",
       "\n",
       "    .dataframe thead th {\n",
       "        text-align: right;\n",
       "    }\n",
       "</style>\n",
       "<table border=\"1\" class=\"dataframe\">\n",
       "  <thead>\n",
       "    <tr style=\"text-align: right;\">\n",
       "      <th></th>\n",
       "      <th>ID</th>\n",
       "      <th>Source</th>\n",
       "      <th>Severity</th>\n",
       "      <th>Start_Time</th>\n",
       "      <th>End_Time</th>\n",
       "      <th>Start_Lat</th>\n",
       "      <th>Start_Lng</th>\n",
       "      <th>End_Lat</th>\n",
       "      <th>End_Lng</th>\n",
       "      <th>Distance(mi)</th>\n",
       "      <th>...</th>\n",
       "      <th>Roundabout</th>\n",
       "      <th>Station</th>\n",
       "      <th>Stop</th>\n",
       "      <th>Traffic_Calming</th>\n",
       "      <th>Traffic_Signal</th>\n",
       "      <th>Turning_Loop</th>\n",
       "      <th>Sunrise_Sunset</th>\n",
       "      <th>Civil_Twilight</th>\n",
       "      <th>Nautical_Twilight</th>\n",
       "      <th>Astronomical_Twilight</th>\n",
       "    </tr>\n",
       "  </thead>\n",
       "  <tbody>\n",
       "    <tr>\n",
       "      <th>0</th>\n",
       "      <td>A-3398</td>\n",
       "      <td>Source2</td>\n",
       "      <td>2</td>\n",
       "      <td>2016-07-18 13:59:05</td>\n",
       "      <td>2016-07-18 15:29:05</td>\n",
       "      <td>38.098743</td>\n",
       "      <td>-121.260094</td>\n",
       "      <td>NaN</td>\n",
       "      <td>NaN</td>\n",
       "      <td>0.00</td>\n",
       "      <td>...</td>\n",
       "      <td>False</td>\n",
       "      <td>False</td>\n",
       "      <td>False</td>\n",
       "      <td>False</td>\n",
       "      <td>False</td>\n",
       "      <td>False</td>\n",
       "      <td>Day</td>\n",
       "      <td>Day</td>\n",
       "      <td>Day</td>\n",
       "      <td>Day</td>\n",
       "    </tr>\n",
       "    <tr>\n",
       "      <th>1</th>\n",
       "      <td>A-4679</td>\n",
       "      <td>Source2</td>\n",
       "      <td>3</td>\n",
       "      <td>2016-07-29 10:53:00</td>\n",
       "      <td>2016-07-29 11:23:00</td>\n",
       "      <td>37.666370</td>\n",
       "      <td>-122.107491</td>\n",
       "      <td>NaN</td>\n",
       "      <td>NaN</td>\n",
       "      <td>0.00</td>\n",
       "      <td>...</td>\n",
       "      <td>False</td>\n",
       "      <td>False</td>\n",
       "      <td>False</td>\n",
       "      <td>False</td>\n",
       "      <td>True</td>\n",
       "      <td>False</td>\n",
       "      <td>Day</td>\n",
       "      <td>Day</td>\n",
       "      <td>Day</td>\n",
       "      <td>Day</td>\n",
       "    </tr>\n",
       "    <tr>\n",
       "      <th>2</th>\n",
       "      <td>A-5381</td>\n",
       "      <td>Source2</td>\n",
       "      <td>3</td>\n",
       "      <td>2016-12-02 19:00:31</td>\n",
       "      <td>2016-12-02 19:30:09</td>\n",
       "      <td>38.522266</td>\n",
       "      <td>-121.767365</td>\n",
       "      <td>NaN</td>\n",
       "      <td>NaN</td>\n",
       "      <td>0.01</td>\n",
       "      <td>...</td>\n",
       "      <td>False</td>\n",
       "      <td>False</td>\n",
       "      <td>False</td>\n",
       "      <td>False</td>\n",
       "      <td>False</td>\n",
       "      <td>False</td>\n",
       "      <td>Night</td>\n",
       "      <td>Night</td>\n",
       "      <td>Night</td>\n",
       "      <td>Night</td>\n",
       "    </tr>\n",
       "    <tr>\n",
       "      <th>3</th>\n",
       "      <td>A-1995</td>\n",
       "      <td>Source2</td>\n",
       "      <td>2</td>\n",
       "      <td>2016-07-03 15:47:09</td>\n",
       "      <td>2016-07-03 17:17:09</td>\n",
       "      <td>37.374660</td>\n",
       "      <td>-122.062012</td>\n",
       "      <td>NaN</td>\n",
       "      <td>NaN</td>\n",
       "      <td>0.00</td>\n",
       "      <td>...</td>\n",
       "      <td>False</td>\n",
       "      <td>False</td>\n",
       "      <td>False</td>\n",
       "      <td>False</td>\n",
       "      <td>False</td>\n",
       "      <td>False</td>\n",
       "      <td>Day</td>\n",
       "      <td>Day</td>\n",
       "      <td>Day</td>\n",
       "      <td>Day</td>\n",
       "    </tr>\n",
       "    <tr>\n",
       "      <th>4</th>\n",
       "      <td>A-3993</td>\n",
       "      <td>Source2</td>\n",
       "      <td>3</td>\n",
       "      <td>2016-07-24 01:23:57</td>\n",
       "      <td>2016-07-24 02:23:57</td>\n",
       "      <td>37.700714</td>\n",
       "      <td>-121.773895</td>\n",
       "      <td>NaN</td>\n",
       "      <td>NaN</td>\n",
       "      <td>0.00</td>\n",
       "      <td>...</td>\n",
       "      <td>False</td>\n",
       "      <td>False</td>\n",
       "      <td>False</td>\n",
       "      <td>False</td>\n",
       "      <td>True</td>\n",
       "      <td>False</td>\n",
       "      <td>Night</td>\n",
       "      <td>Night</td>\n",
       "      <td>Night</td>\n",
       "      <td>Night</td>\n",
       "    </tr>\n",
       "    <tr>\n",
       "      <th>...</th>\n",
       "      <td>...</td>\n",
       "      <td>...</td>\n",
       "      <td>...</td>\n",
       "      <td>...</td>\n",
       "      <td>...</td>\n",
       "      <td>...</td>\n",
       "      <td>...</td>\n",
       "      <td>...</td>\n",
       "      <td>...</td>\n",
       "      <td>...</td>\n",
       "      <td>...</td>\n",
       "      <td>...</td>\n",
       "      <td>...</td>\n",
       "      <td>...</td>\n",
       "      <td>...</td>\n",
       "      <td>...</td>\n",
       "      <td>...</td>\n",
       "      <td>...</td>\n",
       "      <td>...</td>\n",
       "      <td>...</td>\n",
       "      <td>...</td>\n",
       "    </tr>\n",
       "    <tr>\n",
       "      <th>599995</th>\n",
       "      <td>A-602592</td>\n",
       "      <td>Source2</td>\n",
       "      <td>3</td>\n",
       "      <td>2022-06-06 06:32:42</td>\n",
       "      <td>2022-06-06 07:31:55</td>\n",
       "      <td>34.050568</td>\n",
       "      <td>-118.214111</td>\n",
       "      <td>NaN</td>\n",
       "      <td>NaN</td>\n",
       "      <td>0.00</td>\n",
       "      <td>...</td>\n",
       "      <td>False</td>\n",
       "      <td>False</td>\n",
       "      <td>False</td>\n",
       "      <td>False</td>\n",
       "      <td>False</td>\n",
       "      <td>False</td>\n",
       "      <td>Day</td>\n",
       "      <td>Day</td>\n",
       "      <td>Day</td>\n",
       "      <td>Day</td>\n",
       "    </tr>\n",
       "    <tr>\n",
       "      <th>599996</th>\n",
       "      <td>A-596876</td>\n",
       "      <td>Source2</td>\n",
       "      <td>1</td>\n",
       "      <td>2022-06-10 16:38:35</td>\n",
       "      <td>2022-06-10 17:16:43</td>\n",
       "      <td>39.744370</td>\n",
       "      <td>-84.185242</td>\n",
       "      <td>NaN</td>\n",
       "      <td>NaN</td>\n",
       "      <td>0.00</td>\n",
       "      <td>...</td>\n",
       "      <td>False</td>\n",
       "      <td>False</td>\n",
       "      <td>False</td>\n",
       "      <td>False</td>\n",
       "      <td>False</td>\n",
       "      <td>False</td>\n",
       "      <td>Day</td>\n",
       "      <td>Day</td>\n",
       "      <td>Day</td>\n",
       "      <td>Day</td>\n",
       "    </tr>\n",
       "    <tr>\n",
       "      <th>599997</th>\n",
       "      <td>A-600622</td>\n",
       "      <td>Source2</td>\n",
       "      <td>1</td>\n",
       "      <td>2022-06-07 14:50:46</td>\n",
       "      <td>2022-06-07 15:20:37</td>\n",
       "      <td>38.376980</td>\n",
       "      <td>-121.996674</td>\n",
       "      <td>NaN</td>\n",
       "      <td>NaN</td>\n",
       "      <td>0.00</td>\n",
       "      <td>...</td>\n",
       "      <td>False</td>\n",
       "      <td>False</td>\n",
       "      <td>False</td>\n",
       "      <td>False</td>\n",
       "      <td>False</td>\n",
       "      <td>False</td>\n",
       "      <td>Day</td>\n",
       "      <td>Day</td>\n",
       "      <td>Day</td>\n",
       "      <td>Day</td>\n",
       "    </tr>\n",
       "    <tr>\n",
       "      <th>599998</th>\n",
       "      <td>A-598611</td>\n",
       "      <td>Source2</td>\n",
       "      <td>1</td>\n",
       "      <td>2022-06-09 08:36:14</td>\n",
       "      <td>2022-06-09 09:04:32</td>\n",
       "      <td>40.226059</td>\n",
       "      <td>-75.242104</td>\n",
       "      <td>NaN</td>\n",
       "      <td>NaN</td>\n",
       "      <td>0.00</td>\n",
       "      <td>...</td>\n",
       "      <td>False</td>\n",
       "      <td>False</td>\n",
       "      <td>False</td>\n",
       "      <td>False</td>\n",
       "      <td>True</td>\n",
       "      <td>False</td>\n",
       "      <td>Day</td>\n",
       "      <td>Day</td>\n",
       "      <td>Day</td>\n",
       "      <td>Day</td>\n",
       "    </tr>\n",
       "    <tr>\n",
       "      <th>599999</th>\n",
       "      <td>A-596231</td>\n",
       "      <td>Source2</td>\n",
       "      <td>2</td>\n",
       "      <td>2022-06-10 21:59:39</td>\n",
       "      <td>2022-06-10 22:29:17</td>\n",
       "      <td>37.599884</td>\n",
       "      <td>-122.376091</td>\n",
       "      <td>NaN</td>\n",
       "      <td>NaN</td>\n",
       "      <td>0.00</td>\n",
       "      <td>...</td>\n",
       "      <td>False</td>\n",
       "      <td>False</td>\n",
       "      <td>False</td>\n",
       "      <td>False</td>\n",
       "      <td>False</td>\n",
       "      <td>False</td>\n",
       "      <td>Night</td>\n",
       "      <td>Night</td>\n",
       "      <td>Night</td>\n",
       "      <td>Day</td>\n",
       "    </tr>\n",
       "  </tbody>\n",
       "</table>\n",
       "<p>600000 rows × 46 columns</p>\n",
       "</div>"
      ],
      "text/plain": [
       "              ID   Source  Severity           Start_Time             End_Time  \\\n",
       "0         A-3398  Source2         2  2016-07-18 13:59:05  2016-07-18 15:29:05   \n",
       "1         A-4679  Source2         3  2016-07-29 10:53:00  2016-07-29 11:23:00   \n",
       "2         A-5381  Source2         3  2016-12-02 19:00:31  2016-12-02 19:30:09   \n",
       "3         A-1995  Source2         2  2016-07-03 15:47:09  2016-07-03 17:17:09   \n",
       "4         A-3993  Source2         3  2016-07-24 01:23:57  2016-07-24 02:23:57   \n",
       "...          ...      ...       ...                  ...                  ...   \n",
       "599995  A-602592  Source2         3  2022-06-06 06:32:42  2022-06-06 07:31:55   \n",
       "599996  A-596876  Source2         1  2022-06-10 16:38:35  2022-06-10 17:16:43   \n",
       "599997  A-600622  Source2         1  2022-06-07 14:50:46  2022-06-07 15:20:37   \n",
       "599998  A-598611  Source2         1  2022-06-09 08:36:14  2022-06-09 09:04:32   \n",
       "599999  A-596231  Source2         2  2022-06-10 21:59:39  2022-06-10 22:29:17   \n",
       "\n",
       "        Start_Lat   Start_Lng  End_Lat  End_Lng  Distance(mi)  ... Roundabout  \\\n",
       "0       38.098743 -121.260094      NaN      NaN          0.00  ...      False   \n",
       "1       37.666370 -122.107491      NaN      NaN          0.00  ...      False   \n",
       "2       38.522266 -121.767365      NaN      NaN          0.01  ...      False   \n",
       "3       37.374660 -122.062012      NaN      NaN          0.00  ...      False   \n",
       "4       37.700714 -121.773895      NaN      NaN          0.00  ...      False   \n",
       "...           ...         ...      ...      ...           ...  ...        ...   \n",
       "599995  34.050568 -118.214111      NaN      NaN          0.00  ...      False   \n",
       "599996  39.744370  -84.185242      NaN      NaN          0.00  ...      False   \n",
       "599997  38.376980 -121.996674      NaN      NaN          0.00  ...      False   \n",
       "599998  40.226059  -75.242104      NaN      NaN          0.00  ...      False   \n",
       "599999  37.599884 -122.376091      NaN      NaN          0.00  ...      False   \n",
       "\n",
       "       Station   Stop Traffic_Calming Traffic_Signal Turning_Loop  \\\n",
       "0        False  False           False          False        False   \n",
       "1        False  False           False           True        False   \n",
       "2        False  False           False          False        False   \n",
       "3        False  False           False          False        False   \n",
       "4        False  False           False           True        False   \n",
       "...        ...    ...             ...            ...          ...   \n",
       "599995   False  False           False          False        False   \n",
       "599996   False  False           False          False        False   \n",
       "599997   False  False           False          False        False   \n",
       "599998   False  False           False           True        False   \n",
       "599999   False  False           False          False        False   \n",
       "\n",
       "       Sunrise_Sunset Civil_Twilight Nautical_Twilight Astronomical_Twilight  \n",
       "0                 Day            Day               Day                   Day  \n",
       "1                 Day            Day               Day                   Day  \n",
       "2               Night          Night             Night                 Night  \n",
       "3                 Day            Day               Day                   Day  \n",
       "4               Night          Night             Night                 Night  \n",
       "...               ...            ...               ...                   ...  \n",
       "599995            Day            Day               Day                   Day  \n",
       "599996            Day            Day               Day                   Day  \n",
       "599997            Day            Day               Day                   Day  \n",
       "599998            Day            Day               Day                   Day  \n",
       "599999          Night          Night             Night                   Day  \n",
       "\n",
       "[600000 rows x 46 columns]"
      ]
     },
     "execution_count": 4,
     "metadata": {},
     "output_type": "execute_result"
    }
   ],
   "source": [
    "df = pd.read_csv(\"data.csv\")\n",
    "df"
   ]
  },
  {
   "cell_type": "code",
   "execution_count": 5,
   "metadata": {},
   "outputs": [
    {
     "name": "stdout",
     "output_type": "stream",
     "text": [
      "<class 'pandas.core.frame.DataFrame'>\n",
      "RangeIndex: 600000 entries, 0 to 599999\n",
      "Data columns (total 46 columns):\n",
      " #   Column                 Non-Null Count   Dtype  \n",
      "---  ------                 --------------   -----  \n",
      " 0   ID                     600000 non-null  object \n",
      " 1   Source                 600000 non-null  object \n",
      " 2   Severity               600000 non-null  int64  \n",
      " 3   Start_Time             600000 non-null  object \n",
      " 4   End_Time               600000 non-null  object \n",
      " 5   Start_Lat              600000 non-null  float64\n",
      " 6   Start_Lng              600000 non-null  float64\n",
      " 7   End_Lat                0 non-null       float64\n",
      " 8   End_Lng                0 non-null       float64\n",
      " 9   Distance(mi)           600000 non-null  float64\n",
      " 10  Description            600000 non-null  object \n",
      " 11  Street                 599102 non-null  object \n",
      " 12  City                   599978 non-null  object \n",
      " 13  County                 600000 non-null  object \n",
      " 14  State                  600000 non-null  object \n",
      " 15  Zipcode                599934 non-null  object \n",
      " 16  Country                600000 non-null  object \n",
      " 17  Timezone               599864 non-null  object \n",
      " 18  Airport_Code           599670 non-null  object \n",
      " 19  Weather_Timestamp      594676 non-null  object \n",
      " 20  Temperature(F)         590669 non-null  float64\n",
      " 21  Wind_Chill(F)          147545 non-null  float64\n",
      " 22  Humidity(%)            589795 non-null  float64\n",
      " 23  Pressure(in)           592803 non-null  float64\n",
      " 24  Visibility(mi)         587535 non-null  float64\n",
      " 25  Wind_Direction         593820 non-null  object \n",
      " 26  Wind_Speed(mph)        506992 non-null  float64\n",
      " 27  Precipitation(in)      137944 non-null  float64\n",
      " 28  Weather_Condition      587996 non-null  object \n",
      " 29  Amenity                600000 non-null  bool   \n",
      " 30  Bump                   600000 non-null  bool   \n",
      " 31  Crossing               600000 non-null  bool   \n",
      " 32  Give_Way               600000 non-null  bool   \n",
      " 33  Junction               600000 non-null  bool   \n",
      " 34  No_Exit                600000 non-null  bool   \n",
      " 35  Railway                600000 non-null  bool   \n",
      " 36  Roundabout             600000 non-null  bool   \n",
      " 37  Station                600000 non-null  bool   \n",
      " 38  Stop                   600000 non-null  bool   \n",
      " 39  Traffic_Calming        600000 non-null  bool   \n",
      " 40  Traffic_Signal         600000 non-null  bool   \n",
      " 41  Turning_Loop           600000 non-null  bool   \n",
      " 42  Sunrise_Sunset         599305 non-null  object \n",
      " 43  Civil_Twilight         599305 non-null  object \n",
      " 44  Nautical_Twilight      599305 non-null  object \n",
      " 45  Astronomical_Twilight  599305 non-null  object \n",
      "dtypes: bool(13), float64(12), int64(1), object(20)\n",
      "memory usage: 158.5+ MB\n"
     ]
    }
   ],
   "source": [
    "df.info()"
   ]
  },
  {
   "cell_type": "code",
   "execution_count": 6,
   "metadata": {},
   "outputs": [
    {
     "data": {
      "text/plain": [
       "End_Lat                  600000\n",
       "End_Lng                  600000\n",
       "Precipitation(in)        462056\n",
       "Wind_Chill(F)            452455\n",
       "Wind_Speed(mph)           93008\n",
       "Visibility(mi)            12465\n",
       "Weather_Condition         12004\n",
       "Humidity(%)               10205\n",
       "Temperature(F)             9331\n",
       "Pressure(in)               7197\n",
       "Wind_Direction             6180\n",
       "Weather_Timestamp          5324\n",
       "Street                      898\n",
       "Nautical_Twilight           695\n",
       "Civil_Twilight              695\n",
       "Sunrise_Sunset              695\n",
       "Astronomical_Twilight       695\n",
       "Airport_Code                330\n",
       "Timezone                    136\n",
       "Zipcode                      66\n",
       "City                         22\n",
       "Junction                      0\n",
       "Severity                      0\n",
       "Start_Time                    0\n",
       "End_Time                      0\n",
       "Turning_Loop                  0\n",
       "Traffic_Signal                0\n",
       "Traffic_Calming               0\n",
       "Stop                          0\n",
       "Station                       0\n",
       "Roundabout                    0\n",
       "Railway                       0\n",
       "No_Exit                       0\n",
       "Crossing                      0\n",
       "Give_Way                      0\n",
       "Bump                          0\n",
       "Amenity                       0\n",
       "Start_Lat                     0\n",
       "Start_Lng                     0\n",
       "Distance(mi)                  0\n",
       "Description                   0\n",
       "Source                        0\n",
       "County                        0\n",
       "State                         0\n",
       "Country                       0\n",
       "ID                            0\n",
       "dtype: int64"
      ]
     },
     "execution_count": 6,
     "metadata": {},
     "output_type": "execute_result"
    }
   ],
   "source": [
    "df.isnull().sum().sort_values(ascending=False)"
   ]
  },
  {
   "cell_type": "code",
   "execution_count": 7,
   "metadata": {},
   "outputs": [],
   "source": [
    "# from ydata_profiling import ProfileReport\n",
    "# prof = ProfileReport(df)\n",
    "# prof.to_file(output_file='data.html')"
   ]
  },
  {
   "cell_type": "markdown",
   "metadata": {},
   "source": [
    "## Handling datetime variables"
   ]
  },
  {
   "cell_type": "code",
   "execution_count": 8,
   "metadata": {},
   "outputs": [],
   "source": [
    "# handle datetime variables\n",
    "df['Start_Time'] = pd.to_datetime(df['Start_Time'], errors='coerce')\n",
    "df['End_Time'] = pd.to_datetime(df['End_Time'], errors='coerce')"
   ]
  },
  {
   "cell_type": "code",
   "execution_count": 9,
   "metadata": {},
   "outputs": [
    {
     "name": "stdout",
     "output_type": "stream",
     "text": [
      "<class 'pandas.core.frame.DataFrame'>\n",
      "RangeIndex: 600000 entries, 0 to 599999\n",
      "Data columns (total 46 columns):\n",
      " #   Column                 Non-Null Count   Dtype         \n",
      "---  ------                 --------------   -----         \n",
      " 0   ID                     600000 non-null  object        \n",
      " 1   Source                 600000 non-null  object        \n",
      " 2   Severity               600000 non-null  int64         \n",
      " 3   Start_Time             600000 non-null  datetime64[ns]\n",
      " 4   End_Time               600000 non-null  datetime64[ns]\n",
      " 5   Start_Lat              600000 non-null  float64       \n",
      " 6   Start_Lng              600000 non-null  float64       \n",
      " 7   End_Lat                0 non-null       float64       \n",
      " 8   End_Lng                0 non-null       float64       \n",
      " 9   Distance(mi)           600000 non-null  float64       \n",
      " 10  Description            600000 non-null  object        \n",
      " 11  Street                 599102 non-null  object        \n",
      " 12  City                   599978 non-null  object        \n",
      " 13  County                 600000 non-null  object        \n",
      " 14  State                  600000 non-null  object        \n",
      " 15  Zipcode                599934 non-null  object        \n",
      " 16  Country                600000 non-null  object        \n",
      " 17  Timezone               599864 non-null  object        \n",
      " 18  Airport_Code           599670 non-null  object        \n",
      " 19  Weather_Timestamp      594676 non-null  object        \n",
      " 20  Temperature(F)         590669 non-null  float64       \n",
      " 21  Wind_Chill(F)          147545 non-null  float64       \n",
      " 22  Humidity(%)            589795 non-null  float64       \n",
      " 23  Pressure(in)           592803 non-null  float64       \n",
      " 24  Visibility(mi)         587535 non-null  float64       \n",
      " 25  Wind_Direction         593820 non-null  object        \n",
      " 26  Wind_Speed(mph)        506992 non-null  float64       \n",
      " 27  Precipitation(in)      137944 non-null  float64       \n",
      " 28  Weather_Condition      587996 non-null  object        \n",
      " 29  Amenity                600000 non-null  bool          \n",
      " 30  Bump                   600000 non-null  bool          \n",
      " 31  Crossing               600000 non-null  bool          \n",
      " 32  Give_Way               600000 non-null  bool          \n",
      " 33  Junction               600000 non-null  bool          \n",
      " 34  No_Exit                600000 non-null  bool          \n",
      " 35  Railway                600000 non-null  bool          \n",
      " 36  Roundabout             600000 non-null  bool          \n",
      " 37  Station                600000 non-null  bool          \n",
      " 38  Stop                   600000 non-null  bool          \n",
      " 39  Traffic_Calming        600000 non-null  bool          \n",
      " 40  Traffic_Signal         600000 non-null  bool          \n",
      " 41  Turning_Loop           600000 non-null  bool          \n",
      " 42  Sunrise_Sunset         599305 non-null  object        \n",
      " 43  Civil_Twilight         599305 non-null  object        \n",
      " 44  Nautical_Twilight      599305 non-null  object        \n",
      " 45  Astronomical_Twilight  599305 non-null  object        \n",
      "dtypes: bool(13), datetime64[ns](2), float64(12), int64(1), object(18)\n",
      "memory usage: 158.5+ MB\n"
     ]
    }
   ],
   "source": [
    "df.info()"
   ]
  },
  {
   "cell_type": "code",
   "execution_count": 10,
   "metadata": {},
   "outputs": [],
   "source": [
    "# extract Relevant Features\n",
    "df['Start_Year'] = df['Start_Time'].dt.year\n",
    "df['Start_Month'] = df['Start_Time'].dt.month\n",
    "df['Start_Day'] = df['Start_Time'].dt.day\n",
    "df['Start_Hour'] = df['Start_Time'].dt.hour\n",
    "df['Start_Weekday'] = df['Start_Time'].dt.weekday  # Monday=0, Sunday=6\n",
    "df['Is_Weekend'] = df['Start_Weekday'].apply(lambda x: 1 if x >= 5 else 0)"
   ]
  },
  {
   "cell_type": "code",
   "execution_count": 11,
   "metadata": {},
   "outputs": [
    {
     "name": "stdout",
     "output_type": "stream",
     "text": [
      "<class 'pandas.core.frame.DataFrame'>\n",
      "RangeIndex: 600000 entries, 0 to 599999\n",
      "Data columns (total 52 columns):\n",
      " #   Column                 Non-Null Count   Dtype         \n",
      "---  ------                 --------------   -----         \n",
      " 0   ID                     600000 non-null  object        \n",
      " 1   Source                 600000 non-null  object        \n",
      " 2   Severity               600000 non-null  int64         \n",
      " 3   Start_Time             600000 non-null  datetime64[ns]\n",
      " 4   End_Time               600000 non-null  datetime64[ns]\n",
      " 5   Start_Lat              600000 non-null  float64       \n",
      " 6   Start_Lng              600000 non-null  float64       \n",
      " 7   End_Lat                0 non-null       float64       \n",
      " 8   End_Lng                0 non-null       float64       \n",
      " 9   Distance(mi)           600000 non-null  float64       \n",
      " 10  Description            600000 non-null  object        \n",
      " 11  Street                 599102 non-null  object        \n",
      " 12  City                   599978 non-null  object        \n",
      " 13  County                 600000 non-null  object        \n",
      " 14  State                  600000 non-null  object        \n",
      " 15  Zipcode                599934 non-null  object        \n",
      " 16  Country                600000 non-null  object        \n",
      " 17  Timezone               599864 non-null  object        \n",
      " 18  Airport_Code           599670 non-null  object        \n",
      " 19  Weather_Timestamp      594676 non-null  object        \n",
      " 20  Temperature(F)         590669 non-null  float64       \n",
      " 21  Wind_Chill(F)          147545 non-null  float64       \n",
      " 22  Humidity(%)            589795 non-null  float64       \n",
      " 23  Pressure(in)           592803 non-null  float64       \n",
      " 24  Visibility(mi)         587535 non-null  float64       \n",
      " 25  Wind_Direction         593820 non-null  object        \n",
      " 26  Wind_Speed(mph)        506992 non-null  float64       \n",
      " 27  Precipitation(in)      137944 non-null  float64       \n",
      " 28  Weather_Condition      587996 non-null  object        \n",
      " 29  Amenity                600000 non-null  bool          \n",
      " 30  Bump                   600000 non-null  bool          \n",
      " 31  Crossing               600000 non-null  bool          \n",
      " 32  Give_Way               600000 non-null  bool          \n",
      " 33  Junction               600000 non-null  bool          \n",
      " 34  No_Exit                600000 non-null  bool          \n",
      " 35  Railway                600000 non-null  bool          \n",
      " 36  Roundabout             600000 non-null  bool          \n",
      " 37  Station                600000 non-null  bool          \n",
      " 38  Stop                   600000 non-null  bool          \n",
      " 39  Traffic_Calming        600000 non-null  bool          \n",
      " 40  Traffic_Signal         600000 non-null  bool          \n",
      " 41  Turning_Loop           600000 non-null  bool          \n",
      " 42  Sunrise_Sunset         599305 non-null  object        \n",
      " 43  Civil_Twilight         599305 non-null  object        \n",
      " 44  Nautical_Twilight      599305 non-null  object        \n",
      " 45  Astronomical_Twilight  599305 non-null  object        \n",
      " 46  Start_Year             600000 non-null  int64         \n",
      " 47  Start_Month            600000 non-null  int64         \n",
      " 48  Start_Day              600000 non-null  int64         \n",
      " 49  Start_Hour             600000 non-null  int64         \n",
      " 50  Start_Weekday          600000 non-null  int64         \n",
      " 51  Is_Weekend             600000 non-null  int64         \n",
      "dtypes: bool(13), datetime64[ns](2), float64(12), int64(7), object(18)\n",
      "memory usage: 186.0+ MB\n"
     ]
    }
   ],
   "source": [
    "df.info()"
   ]
  },
  {
   "cell_type": "code",
   "execution_count": 12,
   "metadata": {},
   "outputs": [
    {
     "data": {
      "text/plain": [
       "End_Lat                  600000\n",
       "End_Lng                  600000\n",
       "Precipitation(in)        462056\n",
       "Wind_Chill(F)            452455\n",
       "Wind_Speed(mph)           93008\n",
       "Visibility(mi)            12465\n",
       "Weather_Condition         12004\n",
       "Humidity(%)               10205\n",
       "Temperature(F)             9331\n",
       "Pressure(in)               7197\n",
       "Wind_Direction             6180\n",
       "Weather_Timestamp          5324\n",
       "Street                      898\n",
       "Civil_Twilight              695\n",
       "Sunrise_Sunset              695\n",
       "Nautical_Twilight           695\n",
       "Astronomical_Twilight       695\n",
       "Airport_Code                330\n",
       "Timezone                    136\n",
       "Zipcode                      66\n",
       "City                         22\n",
       "No_Exit                       0\n",
       "Turning_Loop                  0\n",
       "Start_Year                    0\n",
       "Start_Month                   0\n",
       "Start_Day                     0\n",
       "Traffic_Signal                0\n",
       "Start_Hour                    0\n",
       "Start_Weekday                 0\n",
       "Traffic_Calming               0\n",
       "Stop                          0\n",
       "Station                       0\n",
       "Roundabout                    0\n",
       "Railway                       0\n",
       "ID                            0\n",
       "Junction                      0\n",
       "Description                   0\n",
       "Severity                      0\n",
       "Start_Time                    0\n",
       "End_Time                      0\n",
       "Start_Lat                     0\n",
       "Start_Lng                     0\n",
       "Distance(mi)                  0\n",
       "County                        0\n",
       "Give_Way                      0\n",
       "State                         0\n",
       "Country                       0\n",
       "Source                        0\n",
       "Amenity                       0\n",
       "Bump                          0\n",
       "Crossing                      0\n",
       "Is_Weekend                    0\n",
       "dtype: int64"
      ]
     },
     "execution_count": 12,
     "metadata": {},
     "output_type": "execute_result"
    }
   ],
   "source": [
    "df.isnull().sum().sort_values(ascending=False)"
   ]
  },
  {
   "cell_type": "code",
   "execution_count": 13,
   "metadata": {},
   "outputs": [],
   "source": [
    "drop_cols = ['ID' , 'Start_Time' , 'End_Time' , 'Description' , 'County', 'State' , 'Zipcode' , 'Country' , 'Timezone' , 'Airport_Code', 'End_Lat' , 'End_Lng' , 'Wind_Chill(F)' , 'Precipitation(in)', 'Street' , 'Astronomical_Twilight' , 'Sunrise_Sunset' , 'Civil_Twilight' , 'City','Nautical_Twilight', 'Weather_Timestamp']\n",
    "\n",
    "df.drop(columns = drop_cols , inplace = True)"
   ]
  },
  {
   "cell_type": "code",
   "execution_count": 14,
   "metadata": {},
   "outputs": [
    {
     "data": {
      "text/plain": [
       "Wind_Speed(mph)      93008\n",
       "Visibility(mi)       12465\n",
       "Weather_Condition    12004\n",
       "Humidity(%)          10205\n",
       "Temperature(F)        9331\n",
       "Pressure(in)          7197\n",
       "Wind_Direction        6180\n",
       "Start_Year               0\n",
       "Stop                     0\n",
       "Traffic_Calming          0\n",
       "Traffic_Signal           0\n",
       "Turning_Loop             0\n",
       "Source                   0\n",
       "Start_Month              0\n",
       "Roundabout               0\n",
       "Start_Day                0\n",
       "Start_Hour               0\n",
       "Start_Weekday            0\n",
       "Station                  0\n",
       "Give_Way                 0\n",
       "Railway                  0\n",
       "No_Exit                  0\n",
       "Junction                 0\n",
       "Severity                 0\n",
       "Crossing                 0\n",
       "Bump                     0\n",
       "Amenity                  0\n",
       "Distance(mi)             0\n",
       "Start_Lng                0\n",
       "Start_Lat                0\n",
       "Is_Weekend               0\n",
       "dtype: int64"
      ]
     },
     "execution_count": 14,
     "metadata": {},
     "output_type": "execute_result"
    }
   ],
   "source": [
    "df.isnull().sum().sort_values(ascending=False)"
   ]
  },
  {
   "cell_type": "code",
   "execution_count": 15,
   "metadata": {},
   "outputs": [
    {
     "data": {
      "image/png": "[encoded data removed]",
      "text/plain": [
       "<Figure size 1000x800 with 1 Axes>"
      ]
     },
     "metadata": {},
     "output_type": "display_data"
    }
   ],
   "source": [
    "#check if the data is unbalenced\n",
    "severity_counts = df[\"Severity\"].value_counts()\n",
    "\n",
    "plt.figure(figsize=(10, 8))\n",
    "plt.title(\"Histogram for the severity\")\n",
    "sns.barplot(x=severity_counts.index, y=severity_counts.values)\n",
    "plt.xlabel(\"Severity\")\n",
    "plt.ylabel(\"Value\")\n",
    "plt.show()"
   ]
  },
  {
   "cell_type": "markdown",
   "metadata": {},
   "source": [
    "## Categorizing data into different cols"
   ]
  },
  {
   "cell_type": "code",
   "execution_count": 16,
   "metadata": {},
   "outputs": [
    {
     "name": "stdout",
     "output_type": "stream",
     "text": [
      "Numerical Columns: ['Start_Lat', 'Start_Lng', 'Distance(mi)', 'Temperature(F)', 'Humidity(%)', 'Pressure(in)', 'Visibility(mi)', 'Wind_Speed(mph)', 'Start_Year', 'Start_Month', 'Start_Day', 'Start_Hour', 'Start_Weekday', 'Is_Weekend']\n",
      "Categorical Columns: ['Source', 'Wind_Direction', 'Weather_Condition', 'Amenity', 'Bump', 'Crossing', 'Give_Way', 'Junction', 'No_Exit', 'Railway', 'Roundabout', 'Station', 'Stop', 'Traffic_Calming', 'Traffic_Signal', 'Turning_Loop']\n"
     ]
    }
   ],
   "source": [
    "num_cols = df.select_dtypes(include=['number']).columns.tolist()  # Columns with numeric data types\n",
    "cat_cols = df.select_dtypes(exclude=['number']).columns.tolist()  # Non-numeric columns (categorical)\n",
    "\n",
    "num_cols.remove('Severity')\n",
    "\n",
    "print(\"Numerical Columns:\", num_cols)\n",
    "print(\"Categorical Columns:\", cat_cols)"
   ]
  },
  {
   "cell_type": "code",
   "execution_count": 17,
   "metadata": {},
   "outputs": [],
   "source": [
    "# List of columns to exclude from null-checks\n",
    "keep_cols = [\n",
    "    \"Temperature(F)\",\n",
    "    \"Humidity(%)\",\n",
    "    \"Pressure(in)\",\n",
    "    \"Visibility(mi)\",\n",
    "    \"Wind_Direction\",\n",
    "    \"Wind_Speed(mph)\",\n",
    "    \"Weather_Condition\"\n",
    "]"
   ]
  },
  {
   "cell_type": "code",
   "execution_count": null,
   "metadata": {},
   "outputs": [],
   "source": []
  },
  {
   "cell_type": "code",
   "execution_count": 18,
   "metadata": {},
   "outputs": [
    {
     "data": {
      "text/plain": [
       "Wind_Speed(mph)      93008\n",
       "Visibility(mi)       12465\n",
       "Weather_Condition    12004\n",
       "Humidity(%)          10205\n",
       "Temperature(F)        9331\n",
       "Pressure(in)          7197\n",
       "Wind_Direction        6180\n",
       "Start_Year               0\n",
       "Stop                     0\n",
       "Traffic_Calming          0\n",
       "Traffic_Signal           0\n",
       "Turning_Loop             0\n",
       "Source                   0\n",
       "Start_Month              0\n",
       "Roundabout               0\n",
       "Start_Day                0\n",
       "Start_Hour               0\n",
       "Start_Weekday            0\n",
       "Station                  0\n",
       "Give_Way                 0\n",
       "Railway                  0\n",
       "No_Exit                  0\n",
       "Junction                 0\n",
       "Severity                 0\n",
       "Crossing                 0\n",
       "Bump                     0\n",
       "Amenity                  0\n",
       "Distance(mi)             0\n",
       "Start_Lng                0\n",
       "Start_Lat                0\n",
       "Is_Weekend               0\n",
       "dtype: int64"
      ]
     },
     "execution_count": 18,
     "metadata": {},
     "output_type": "execute_result"
    }
   ],
   "source": [
    "df.isnull().sum().sort_values(ascending=False)"
   ]
  },
  {
   "cell_type": "code",
   "execution_count": 19,
   "metadata": {},
   "outputs": [],
   "source": [
    "# numerical_cols = df.select_dtypes(include=['float64', 'int64']).columns\n",
    "\n",
    "# # Box plots for outlier visualization\n",
    "# plt.figure(figsize=(15, 10))\n",
    "# for i, col in enumerate(numerical_cols):\n",
    "#     plt.subplot(len(numerical_cols) // 3 + 1, 3, i + 1)\n",
    "#     sns.boxplot(y=df[col])\n",
    "#     plt.title(f'Boxplot of {col}')\n",
    "\n",
    "# plt.tight_layout()\n",
    "# plt.show()\n",
    "\n",
    "# # Calculate IQR and identify outliers for each numerical column\n",
    "# outlier_info = {}  # Store outlier information for each column\n",
    "\n",
    "# for col in numerical_cols:\n",
    "#     Q1 = df[col].quantile(0.25)\n",
    "#     Q3 = df[col].quantile(0.75)\n",
    "#     IQR = Q3 - Q1\n",
    "#     lower_bound = Q1 - 1.5 * IQR\n",
    "#     upper_bound = Q3 + 1.5 * IQR\n",
    "\n",
    "#     outliers = df[(df[col] < lower_bound) | (df[col] > upper_bound)]\n",
    "\n",
    "#     outlier_info[col] = {\n",
    "#         'Q1': Q1,\n",
    "#         'Q3': Q3,\n",
    "#         'IQR': IQR,\n",
    "#         'lower_bound': lower_bound,\n",
    "#         'upper_bound': upper_bound,\n",
    "#         'num_outliers': len(outliers),\n",
    "#     }\n",
    "\n",
    "#     print(f\"Column: {col}\")\n",
    "#     print(f\"Number of outliers: {len(outliers)}\")\n",
    "#     print(\"-\" * 20)"
   ]
  },
  {
   "cell_type": "code",
   "execution_count": 21,
   "metadata": {},
   "outputs": [],
   "source": [
    "# Handle outliers using IQR method\n",
    "\n",
    "#remove severity from the numerical cols\n",
    "numerical_cols = df.select_dtypes(include=['float64', 'int64']).columns\n",
    "numerical_cols = numerical_cols.drop('Severity')\n",
    "for col in numerical_cols:\n",
    "    Q1 = df[col].quantile(0.25)\n",
    "    Q3 = df[col].quantile(0.75)\n",
    "    IQR = Q3 - Q1\n",
    "    lower_bound = Q1 - 1.5 * IQR\n",
    "    upper_bound = Q3 + 1.5 * IQR\n",
    "\n",
    "    # Replace outliers with the bounds\n",
    "    df[col] = np.where(df[col] < lower_bound, lower_bound, df[col])\n",
    "    df[col] = np.where(df[col] > upper_bound, upper_bound, df[col])"
   ]
  },
  {
   "cell_type": "markdown",
   "metadata": {},
   "source": [
    "# Creating a pipeline and predicting"
   ]
  },
  {
   "cell_type": "markdown",
   "metadata": {},
   "source": [
    "### Storing the null categorical and numerical cols"
   ]
  },
  {
   "cell_type": "code",
   "execution_count": null,
   "metadata": {},
   "outputs": [
    {
     "data": {
      "text/plain": [
       "(['Wind_Speed(mph)',\n",
       "  'Humidity(%)',\n",
       "  'Visibility(mi)',\n",
       "  'Pressure(in)',\n",
       "  'Temperature(F)'],\n",
       " ['Wind_Direction', 'Weather_Condition'])"
      ]
     },
     "execution_count": 317,
     "metadata": {},
     "output_type": "execute_result"
    }
   ],
   "source": [
    "null_int_cols = list(set(keep_cols).intersection(set(num_cols)))\n",
    "null_cat_cols = list(set(keep_cols).intersection(set(cat_cols)))\n",
    "\n",
    "null_int_cols , null_cat_cols"
   ]
  },
  {
   "cell_type": "markdown",
   "metadata": {},
   "source": [
    "# Train-test-split"
   ]
  },
  {
   "cell_type": "code",
   "execution_count": null,
   "metadata": {},
   "outputs": [],
   "source": [
    "from sklearn.model_selection import train_test_split\n",
    "df = df.sample(400000)\n",
    "x_train , x_test , y_train , y_test = train_test_split(df.drop(columns=['Severity']), df['Severity'] , test_size=0.2 , random_state=42)"
   ]
  },
  {
   "cell_type": "markdown",
   "metadata": {},
   "source": [
    "# Encoding y columns using label encoder"
   ]
  },
  {
   "cell_type": "code",
   "execution_count": null,
   "metadata": {},
   "outputs": [],
   "source": [
    "from sklearn.preprocessing import LabelEncoder\n",
    "le = LabelEncoder()\n",
    "le.fit(y_train)\n",
    "\n",
    "y_train = le.transform(y_train)\n",
    "y_test= le.transform(y_test)"
   ]
  },
  {
   "cell_type": "markdown",
   "metadata": {},
   "source": [
    "## 1) Imputation + Encoder Transformer"
   ]
  },
  {
   "cell_type": "code",
   "execution_count": null,
   "metadata": {},
   "outputs": [
    {
     "data": {
      "text/plain": [
       "['Source',\n",
       " 'Wind_Direction',\n",
       " 'Weather_Condition',\n",
       " 'Amenity',\n",
       " 'Bump',\n",
       " 'Crossing',\n",
       " 'Give_Way',\n",
       " 'Junction',\n",
       " 'No_Exit',\n",
       " 'Railway',\n",
       " 'Roundabout',\n",
       " 'Station',\n",
       " 'Stop',\n",
       " 'Traffic_Calming',\n",
       " 'Traffic_Signal',\n",
       " 'Turning_Loop']"
      ]
     },
     "execution_count": 340,
     "metadata": {},
     "output_type": "execute_result"
    }
   ],
   "source": [
    "cat_cols"
   ]
  },
  {
   "cell_type": "code",
   "execution_count": null,
   "metadata": {},
   "outputs": [],
   "source": [
    "# # Define transformers\n",
    "# imp_enc = ColumnTransformer(\n",
    "#     transformers=[\n",
    "#         (\"num_missing\", KNNImputer(), null_int_cols),\n",
    "#         (\"cat_imputer\", SimpleImputer(strategy=\"most_frequent\"), null_cat_cols),\n",
    "#         (\"ohe_trf\", OneHotEncoder(sparse_output=False, handle_unknown='ignore'), cat_cols)\n",
    "                \n",
    "#     ],\n",
    "#     remainder='passthrough'\n",
    "# )\n",
    "\n",
    "# x_train_trf = imp_enc.fit_transform(x_train)\n",
    "# x_train_trf"
   ]
  },
  {
   "cell_type": "code",
   "execution_count": null,
   "metadata": {},
   "outputs": [],
   "source": [
    "all_cat_cols = null_cat_cols + cat_cols  # All categorical columns that will go through imputation and OHE\n",
    "\n",
    "# Define transformers\n",
    "imp_enc = ColumnTransformer(\n",
    "    transformers=[\n",
    "        (\"num_missing\", SimpleImputer(strategy=\"median\"), null_int_cols),  # Impute missing values for numerical columns\n",
    "        (\"cat_imputer_ohe\", Pipeline(steps=[\n",
    "            (\"cat_imputer\", SimpleImputer(strategy=\"most_frequent\")),  # Impute missing values for categorical columns\n",
    "            (\"ohe_trf\", OneHotEncoder(sparse_output=False, handle_unknown='ignore'))  # Apply OneHotEncoder to all categorical columns\n",
    "        ]), cat_cols),  # Apply both imputation and one-hot encoding to all categorical columns\n",
    "    ],\n",
    "    remainder='passthrough'  # Keep other columns as they are\n",
    ")\n",
    "\n",
    "# # Fit and transform the data\n",
    "# x_train_trf = imp_enc.fit_transform(x_train)"
   ]
  },
  {
   "cell_type": "code",
   "execution_count": null,
   "metadata": {},
   "outputs": [],
   "source": [
    "from sklearn.preprocessing import PowerTransformer\n",
    "yj_trf = PowerTransformer()"
   ]
  },
  {
   "cell_type": "code",
   "execution_count": null,
   "metadata": {},
   "outputs": [],
   "source": [
    "from sklearn.preprocessing import StandardScaler\n",
    "scaler_trf = ColumnTransformer([\n",
    "    (\"scaler_trf\" , StandardScaler() , slice(0,40))\n",
    "])"
   ]
  },
  {
   "cell_type": "code",
   "execution_count": null,
   "metadata": {},
   "outputs": [],
   "source": [
    "from sklearn.decomposition import PCA\n",
    "pca = PCA(n_components=15)"
   ]
  },
  {
   "cell_type": "code",
   "execution_count": null,
   "metadata": {},
   "outputs": [],
   "source": [
    "from sklearn.linear_model import LinearRegression , LogisticRegression\n",
    "from sklearn.neighbors import KNeighborsClassifier,KNeighborsRegressor\n",
    "from sklearn import svm\n",
    "from sklearn.tree import DecisionTreeClassifier\n",
    "from sklearn.ensemble import RandomForestClassifier\n",
    "from sklearn.ensemble import RandomForestRegressor\n",
    "from sklearn.naive_bayes import GaussianNB\n",
    "clf = RandomForestClassifier()"
   ]
  },
  {
   "cell_type": "code",
   "execution_count": null,
   "metadata": {},
   "outputs": [],
   "source": [
    "pre_pipe = Pipeline([\n",
    "    (\"preprocessor\" , imp_enc),\n",
    "    (\"yj_trf\" , yj_trf),\n",
    "    (\"scaler_trf\" , scaler_trf),\n",
    "    (\"pca\" , pca)\n",
    "])"
   ]
  },
  {
   "cell_type": "code",
   "execution_count": null,
   "metadata": {},
   "outputs": [
    {
     "name": "stderr",
     "output_type": "stream",
     "text": [
      "/Users/vanshbansal/anaconda3/lib/python3.11/site-packages/numpy/core/_methods.py:239: RuntimeWarning: overflow encountered in multiply\n",
      "  x = um.multiply(x, x, out=x)\n",
      "/Users/vanshbansal/anaconda3/lib/python3.11/site-packages/numpy/core/_methods.py:250: RuntimeWarning: overflow encountered in reduce\n",
      "  ret = umr_sum(x, axis, dtype, out, keepdims=keepdims, where=where)\n"
     ]
    }
   ],
   "source": [
    "x_train_trf = pre_pipe.fit_transform(x_train)"
   ]
  },
  {
   "cell_type": "code",
   "execution_count": null,
   "metadata": {},
   "outputs": [],
   "source": [
    "x_test_trf = pre_pipe.transform(x_test)"
   ]
  },
  {
   "cell_type": "markdown",
   "metadata": {},
   "source": [
    "### KNN"
   ]
  },
  {
   "cell_type": "code",
   "execution_count": null,
   "metadata": {},
   "outputs": [
    {
     "data": {
      "text/plain": [
       "0.5648625"
      ]
     },
     "execution_count": 350,
     "metadata": {},
     "output_type": "execute_result"
    }
   ],
   "source": [
    "from sklearn.neighbors import KNeighborsClassifier\n",
    "knn = KNeighborsClassifier()\n",
    "knn.fit(x_train_trf,y_train)\n",
    "y_pred = knn.predict(x_test_trf)\n",
    "\n",
    "accuracy_score(y_test , y_pred)"
   ]
  },
  {
   "cell_type": "markdown",
   "metadata": {},
   "source": [
    "### logistic regression"
   ]
  },
  {
   "cell_type": "code",
   "execution_count": null,
   "metadata": {},
   "outputs": [
    {
     "data": {
      "text/plain": [
       "0.5844125"
      ]
     },
     "execution_count": 351,
     "metadata": {},
     "output_type": "execute_result"
    }
   ],
   "source": [
    "lr = LogisticRegression(random_state=0)\n",
    "lr.fit(x_train_trf,y_train)\n",
    "y_pred=lr.predict(x_test_trf)\n",
    "accuracy_score(y_test , y_pred)"
   ]
  },
  {
   "cell_type": "markdown",
   "metadata": {},
   "source": [
    "### Random Forest"
   ]
  },
  {
   "cell_type": "code",
   "execution_count": null,
   "metadata": {},
   "outputs": [],
   "source": [
    "# rf = RandomForestClassifier()\n",
    "# rf.fit(x_train_trf , y_train)\n",
    "# y_pred = rf.predict(x_test_trf)\n",
    "\n",
    "# accuracy_score(y_pred , y_test)"
   ]
  },
  {
   "cell_type": "code",
   "execution_count": null,
   "metadata": {},
   "outputs": [
    {
     "data": {
      "text/plain": [
       "0.59345"
      ]
     },
     "execution_count": 333,
     "metadata": {},
     "output_type": "execute_result"
    }
   ],
   "source": [
    "from xgboost import XGBClassifier\n",
    "xgb = XGBClassifier(eval_metric='logloss')\n",
    "xgb.fit(x_train_trf , y_train)\n",
    "y_pred = xgb.predict(x_test_trf)\n",
    "accuracy_score(y_pred , y_test)"
   ]
  },
  {
   "cell_type": "code",
   "execution_count": null,
   "metadata": {},
   "outputs": [],
   "source": [
    "# from sklearn.model_selection import GridSearchCV\n",
    "# param_grid = {\n",
    "#     'n_estimators': [50, 100],  # Number of trees in the forest\n",
    "#     'max_depth': [10, 20],  # Maximum depth of the tree\n",
    "#     'min_samples_split': [2, 5],  # Minimum number of samples required to split a node\n",
    "#     'min_samples_leaf': [2, 4]  # Minimum number of samples required to be at a leaf node\n",
    "# }\n",
    "\n",
    "# # Set up the GridSearchCV\n",
    "# grid_search = GridSearchCV(rf, param_grid, cv=5, n_jobs=-1, scoring='accuracy')\n",
    "\n",
    "# # Fit the GridSearchCV to the data\n",
    "# grid_search.fit(x_train_trf, y_train)\n",
    "\n",
    "# # Print the best parameters and the best score\n",
    "# print(\"Best Parameters:\", grid_search.best_params_)\n",
    "# print(\"Best Cross-Validation Score:\", grid_search.best_score_)"
   ]
  },
  {
   "cell_type": "code",
   "execution_count": null,
   "metadata": {},
   "outputs": [
    {
     "data": {
      "text/plain": [
       "(320000, 15)"
      ]
     },
     "execution_count": 335,
     "metadata": {},
     "output_type": "execute_result"
    }
   ],
   "source": [
    "x_train_trf.shape"
   ]
  },
  {
   "cell_type": "code",
   "execution_count": null,
   "metadata": {},
   "outputs": [
    {
     "name": "stdout",
     "output_type": "stream",
     "text": [
      "Epoch 1/20\n",
      "\u001b[1m8000/8000\u001b[0m \u001b[32m━━━━━━━━━━━━━━━━━━━━\u001b[0m\u001b[37m\u001b[0m \u001b[1m11s\u001b[0m 1ms/step - accuracy: 0.5792 - loss: 0.7746 - val_accuracy: 0.5838 - val_loss: 0.7621 - learning_rate: 0.0010\n",
      "Epoch 2/20\n",
      "\u001b[1m8000/8000\u001b[0m \u001b[32m━━━━━━━━━━━━━━━━━━━━\u001b[0m\u001b[37m\u001b[0m \u001b[1m9s\u001b[0m 1ms/step - accuracy: 0.5865 - loss: 0.7546 - val_accuracy: 0.5856 - val_loss: 0.7547 - learning_rate: 0.0010\n",
      "Epoch 3/20\n",
      "\u001b[1m8000/8000\u001b[0m \u001b[32m━━━━━━━━━━━━━━━━━━━━\u001b[0m\u001b[37m\u001b[0m \u001b[1m13s\u001b[0m 2ms/step - accuracy: 0.5851 - loss: 0.7533 - val_accuracy: 0.5868 - val_loss: 0.7548 - learning_rate: 0.0010\n",
      "Epoch 4/20\n",
      "\u001b[1m8000/8000\u001b[0m \u001b[32m━━━━━━━━━━━━━━━━━━━━\u001b[0m\u001b[37m\u001b[0m \u001b[1m9s\u001b[0m 1ms/step - accuracy: 0.5879 - loss: 0.7516 - val_accuracy: 0.5857 - val_loss: 0.7531 - learning_rate: 0.0010\n",
      "Epoch 5/20\n",
      "\u001b[1m8000/8000\u001b[0m \u001b[32m━━━━━━━━━━━━━━━━━━━━\u001b[0m\u001b[37m\u001b[0m \u001b[1m8s\u001b[0m 940us/step - accuracy: 0.5881 - loss: 0.7498 - val_accuracy: 0.5835 - val_loss: 0.7530 - learning_rate: 0.0010\n",
      "Epoch 6/20\n",
      "\u001b[1m8000/8000\u001b[0m \u001b[32m━━━━━━━━━━━━━━━━━━━━\u001b[0m\u001b[37m\u001b[0m \u001b[1m6s\u001b[0m 796us/step - accuracy: 0.5887 - loss: 0.7493 - val_accuracy: 0.5864 - val_loss: 0.7519 - learning_rate: 0.0010\n",
      "Epoch 7/20\n",
      "\u001b[1m8000/8000\u001b[0m \u001b[32m━━━━━━━━━━━━━━━━━━━━\u001b[0m\u001b[37m\u001b[0m \u001b[1m7s\u001b[0m 840us/step - accuracy: 0.5880 - loss: 0.7497 - val_accuracy: 0.5859 - val_loss: 0.7526 - learning_rate: 0.0010\n",
      "Epoch 8/20\n",
      "\u001b[1m8000/8000\u001b[0m \u001b[32m━━━━━━━━━━━━━━━━━━━━\u001b[0m\u001b[37m\u001b[0m \u001b[1m5s\u001b[0m 665us/step - accuracy: 0.5909 - loss: 0.7458 - val_accuracy: 0.5870 - val_loss: 0.7508 - learning_rate: 0.0010\n",
      "Epoch 9/20\n",
      "\u001b[1m8000/8000\u001b[0m \u001b[32m━━━━━━━━━━━━━━━━━━━━\u001b[0m\u001b[37m\u001b[0m \u001b[1m9s\u001b[0m 1ms/step - accuracy: 0.5880 - loss: 0.7488 - val_accuracy: 0.5873 - val_loss: 0.7506 - learning_rate: 0.0010\n",
      "Epoch 10/20\n",
      "\u001b[1m8000/8000\u001b[0m \u001b[32m━━━━━━━━━━━━━━━━━━━━\u001b[0m\u001b[37m\u001b[0m \u001b[1m8s\u001b[0m 999us/step - accuracy: 0.5887 - loss: 0.7476 - val_accuracy: 0.5876 - val_loss: 0.7512 - learning_rate: 0.0010\n",
      "Epoch 11/20\n",
      "\u001b[1m8000/8000\u001b[0m \u001b[32m━━━━━━━━━━━━━━━━━━━━\u001b[0m\u001b[37m\u001b[0m \u001b[1m10s\u001b[0m 1ms/step - accuracy: 0.5903 - loss: 0.7451 - val_accuracy: 0.5865 - val_loss: 0.7507 - learning_rate: 0.0010\n",
      "Epoch 12/20\n",
      "\u001b[1m8000/8000\u001b[0m \u001b[32m━━━━━━━━━━━━━━━━━━━━\u001b[0m\u001b[37m\u001b[0m \u001b[1m5s\u001b[0m 680us/step - accuracy: 0.5891 - loss: 0.7466 - val_accuracy: 0.5871 - val_loss: 0.7500 - learning_rate: 0.0010\n",
      "Epoch 13/20\n",
      "\u001b[1m8000/8000\u001b[0m \u001b[32m━━━━━━━━━━━━━━━━━━━━\u001b[0m\u001b[37m\u001b[0m \u001b[1m5s\u001b[0m 678us/step - accuracy: 0.5912 - loss: 0.7454 - val_accuracy: 0.5871 - val_loss: 0.7512 - learning_rate: 0.0010\n",
      "Epoch 14/20\n",
      "\u001b[1m8000/8000\u001b[0m \u001b[32m━━━━━━━━━━━━━━━━━━━━\u001b[0m\u001b[37m\u001b[0m \u001b[1m7s\u001b[0m 934us/step - accuracy: 0.5898 - loss: 0.7457 - val_accuracy: 0.5872 - val_loss: 0.7506 - learning_rate: 0.0010\n",
      "Epoch 15/20\n",
      "\u001b[1m8000/8000\u001b[0m \u001b[32m━━━━━━━━━━━━━━━━━━━━\u001b[0m\u001b[37m\u001b[0m \u001b[1m9s\u001b[0m 1ms/step - accuracy: 0.5890 - loss: 0.7458 - val_accuracy: 0.5874 - val_loss: 0.7504 - learning_rate: 0.0010\n"
     ]
    }
   ],
   "source": [
    "import tensorflow as tf\n",
    "\n",
    "\n",
    "inputs = tf.keras.Input(shape=(x_test_trf.shape[1],))\n",
    "x = tf.keras.layers.Dense(64, activation='relu')(inputs)\n",
    "x = tf.keras.layers.Dense(64, activation='relu')(x)\n",
    "outputs = tf.keras.layers.Dense(4, activation='softmax')(x)\n",
    "\n",
    "model = tf.keras.Model(inputs, outputs)\n",
    "\n",
    "model.compile(\n",
    "    optimizer='adam',\n",
    "    loss='sparse_categorical_crossentropy',\n",
    "    metrics=['accuracy']\n",
    ")\n",
    "\n",
    "batch_size = 32\n",
    "epochs = 20\n",
    "\n",
    "history = model.fit(\n",
    "    x_train_trf,\n",
    "    y_train,\n",
    "    validation_split=0.2,\n",
    "    batch_size=batch_size,\n",
    "    epochs=epochs,\n",
    "    callbacks=[\n",
    "        tf.keras.callbacks.ReduceLROnPlateau(),\n",
    "        tf.keras.callbacks.EarlyStopping(\n",
    "            monitor='val_loss',\n",
    "            patience=3,\n",
    "            restore_best_weights=True\n",
    "        )\n",
    "    ]\n",
    ")\n"
   ]
  },
  {
   "cell_type": "code",
   "execution_count": null,
   "metadata": {},
   "outputs": [
    {
     "name": "stdout",
     "output_type": "stream",
     "text": [
      "Test Accuracy: 0.5893999934196472\n"
     ]
    }
   ],
   "source": [
    "print(\"Test Accuracy:\", model.evaluate(x_test_trf, y_test, verbose=0)[1])"
   ]
  },
  {
   "cell_type": "code",
   "execution_count": null,
   "metadata": {},
   "outputs": [],
   "source": []
  },
  {
   "cell_type": "code",
   "execution_count": null,
   "metadata": {},
   "outputs": [],
   "source": []
  },
  {
   "cell_type": "code",
   "execution_count": null,
   "metadata": {},
   "outputs": [],
   "source": []
  }
 ],
 "metadata": {
  "kernelspec": {
   "display_name": "base",
   "language": "python",
   "name": "python3"
  },
  "language_info": {
   "codemirror_mode": {
    "name": "ipython",
    "version": 3
   },
   "file_extension": ".py",
   "mimetype": "text/x-python",
   "name": "python",
   "nbconvert_exporter": "python",
   "pygments_lexer": "ipython3",
   "version": "3.11.5"
  }
 },
 "nbformat": 4,
 "nbformat_minor": 2
}
