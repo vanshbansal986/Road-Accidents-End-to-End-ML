{
 "cells": [
  {
   "cell_type": "code",
   "execution_count": 22,
   "metadata": {},
   "outputs": [],
   "source": [
    "import os"
   ]
  },
  {
   "cell_type": "code",
   "execution_count": 23,
   "metadata": {},
   "outputs": [
    {
     "data": {
      "text/plain": [
       "'/Users/vanshbansal/Desktop/Road Accidents'"
      ]
     },
     "execution_count": 23,
     "metadata": {},
     "output_type": "execute_result"
    }
   ],
   "source": [
    "%pwd"
   ]
  },
  {
   "cell_type": "code",
   "execution_count": 24,
   "metadata": {},
   "outputs": [],
   "source": [
    "os.chdir(\"/Users/vanshbansal/Desktop/Road Accidents\")"
   ]
  },
  {
   "cell_type": "code",
   "execution_count": 29,
   "metadata": {},
   "outputs": [],
   "source": [
    "from dataclasses import dataclass\n",
    "from pathlib import Path\n",
    "\n",
    "@dataclass\n",
    "class DataCleaningConfig:\n",
    "    root_dir: Path\n",
    "    curr_file_path: Path\n",
    "    clean_file_path: Path\n",
    "    train_file_path: Path\n",
    "    test_file_path: Path\n",
    "    main_data_dir: Path"
   ]
  },
  {
   "cell_type": "code",
   "execution_count": 30,
   "metadata": {},
   "outputs": [],
   "source": [
    "from src.utils.common import read_yaml , create_directories\n",
    "from src.constants import CONFIG_FILE_PATH\n",
    "\n",
    "class ConfigurationManager:\n",
    "    def __init__(self , config_filepath=CONFIG_FILE_PATH):\n",
    "\n",
    "        self.config = read_yaml(config_filepath)\n",
    "    \n",
    "    def get_data_cleaning_config(self) -> DataCleaningConfig:\n",
    "        config = self.config.data_cleaning\n",
    "        create_directories([config.root_dir])\n",
    "        create_directories([config.main_data_dir])\n",
    "\n",
    "        data_cleaning_config = DataCleaningConfig(\n",
    "            root_dir = config.root_dir,\n",
    "            curr_file_path = config.curr_file_path,\n",
    "            clean_file_path = config.clean_file_path,\n",
    "            train_file_path = config.train_file_path,\n",
    "            test_file_path = config.test_file_path,\n",
    "            main_data_dir = config.main_data_dir\n",
    "        )\n",
    "\n",
    "        return data_cleaning_config"
   ]
  },
  {
   "cell_type": "code",
   "execution_count": 33,
   "metadata": {},
   "outputs": [],
   "source": [
    "import pandas as pd\n",
    "import numpy as np\n",
    "from src import logger\n",
    "\n",
    "class DataCleaning:\n",
    "    def __init__(self , config: DataCleaningConfig):\n",
    "        try:\n",
    "            self.config = config\n",
    "        except Exception as e:\n",
    "            raise e\n",
    "    \n",
    "    def handle_datetime_variables(self,df: pd.DataFrame) -> pd.DataFrame:\n",
    "        # handle datetime variables\n",
    "        df['Start_Time'] = pd.to_datetime(df['Start_Time'], errors='coerce')\n",
    "        df['End_Time'] = pd.to_datetime(df['End_Time'], errors='coerce')\n",
    "\n",
    "        # extract Relevant Features\n",
    "        df['Start_Year'] = df['Start_Time'].dt.year\n",
    "        df['Start_Month'] = df['Start_Time'].dt.month\n",
    "        df['Start_Day'] = df['Start_Time'].dt.day\n",
    "        df['Start_Hour'] = df['Start_Time'].dt.hour\n",
    "        df['Start_Weekday'] = df['Start_Time'].dt.weekday  # Monday=0, Sunday=6\n",
    "        df['Is_Weekend'] = df['Start_Weekday'].apply(lambda x: 1 if x >= 5 else 0)\n",
    "\n",
    "        return df\n",
    "    \n",
    "    def drop_columns(self,df: pd.DataFrame) -> pd.DataFrame:\n",
    "        drop_cols = ['ID' , 'Start_Time' , 'End_Time' , 'Description' , 'County', 'State' , 'Zipcode' , 'Country' , 'Timezone' , 'Airport_Code', 'End_Lat' , 'End_Lng' , 'Wind_Chill(F)' , 'Precipitation(in)', 'Street' , 'Astronomical_Twilight' , 'Sunrise_Sunset' , 'Civil_Twilight' , 'City','Nautical_Twilight', 'Weather_Timestamp']\n",
    "\n",
    "        df.drop(columns = drop_cols , inplace = True)\n",
    "\n",
    "        return df\n",
    "\n",
    "    def remove_outliers(self,df: pd.DataFrame) -> pd.DataFrame:\n",
    "        numerical_cols = df.select_dtypes(include=['float64', 'int64']).columns\n",
    "        numerical_cols = numerical_cols.drop('Severity')\n",
    "        for col in numerical_cols:\n",
    "            Q1 = df[col].quantile(0.25)\n",
    "            Q3 = df[col].quantile(0.75)\n",
    "            IQR = Q3 - Q1\n",
    "            lower_bound = Q1 - 1.5 * IQR\n",
    "            upper_bound = Q3 + 1.5 * IQR\n",
    "\n",
    "            # Replace outliers with the bounds\n",
    "            df[col] = np.where(df[col] < lower_bound, lower_bound, df[col])\n",
    "            df[col] = np.where(df[col] > upper_bound, upper_bound, df[col])\n",
    "\n",
    "        return df\n",
    "    \n",
    "    def start_data_cleaning(self):\n",
    "        # Reading the data\n",
    "        df = pd.read_csv(self.config.curr_file_path)\n",
    "        \n",
    "        # handle datetime variables\n",
    "        df = self.handle_datetime_variables(df)\n",
    "\n",
    "        # Removing unneccessary columns\n",
    "        df = self.drop_columns(df)\n",
    "\n",
    "        # Removing outliers\n",
    "        df = self.remove_outliers(df)\n",
    "\n",
    "        # Categorizing data into diff cols\n",
    "        num_cols = df.select_dtypes(include=['number']).columns.tolist()  # Columns with numeric data types\n",
    "        cat_cols = df.select_dtypes(exclude=['number']).columns.tolist()  # Non-numeric columns (categorical)\n",
    "\n",
    "        num_cols.remove('Severity')\n",
    "\n",
    "        # List of columns to exclude from null-checks\n",
    "        keep_cols = [\n",
    "            \"Temperature(F)\",\n",
    "            \"Humidity(%)\",\n",
    "            \"Pressure(in)\",\n",
    "            \"Visibility(mi)\",\n",
    "            \"Wind_Direction\",\n",
    "            \"Wind_Speed(mph)\",\n",
    "            \"Weather_Condition\"\n",
    "        ]\n",
    "\n",
    "        # train test split\n",
    "        from sklearn.model_selection import train_test_split\n",
    "        df = df.sample(400000)\n",
    "        train , test = train_test_split(df , test_size=0.25 , random_state=42)\n",
    "\n",
    "        # Saving data into train and test file path\n",
    "        df.to_csv(self.config.clean_file_path)\n",
    "        train.to_csv(self.config.train_file_path)\n",
    "        test.to_csv(self.config.test_file_path)\n",
    "\n",
    "        "
   ]
  },
  {
   "cell_type": "code",
   "execution_count": 34,
   "metadata": {},
   "outputs": [
    {
     "name": "stdout",
     "output_type": "stream",
     "text": [
      "[2025-01-11 04:14:25,802: INFO: common: yaml file: config.yaml loaded successfully]\n",
      "[2025-01-11 04:14:25,805: INFO: common: created directory at: artifacts/data_cleaning]\n",
      "[2025-01-11 04:14:25,811: INFO: common: created directory at: artifacts/main_data]\n"
     ]
    }
   ],
   "source": [
    "try:\n",
    "    config = ConfigurationManager()\n",
    "    data_cleaning_config = config.get_data_cleaning_config()\n",
    "    data_cleaning = DataCleaning(config=data_cleaning_config)\n",
    "    data_cleaning.start_data_cleaning()\n",
    "except Exception as e:\n",
    "    raise e"
   ]
  },
  {
   "cell_type": "code",
   "execution_count": null,
   "metadata": {},
   "outputs": [],
   "source": []
  }
 ],
 "metadata": {
  "kernelspec": {
   "display_name": "venv",
   "language": "python",
   "name": "python3"
  },
  "language_info": {
   "codemirror_mode": {
    "name": "ipython",
    "version": 3
   },
   "file_extension": ".py",
   "mimetype": "text/x-python",
   "name": "python",
   "nbconvert_exporter": "python",
   "pygments_lexer": "ipython3",
   "version": "3.9.21"
  }
 },
 "nbformat": 4,
 "nbformat_minor": 2
}
