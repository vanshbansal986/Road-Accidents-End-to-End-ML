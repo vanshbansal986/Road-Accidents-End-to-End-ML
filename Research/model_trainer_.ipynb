{
 "cells": [
  {
   "cell_type": "code",
   "execution_count": 1,
   "metadata": {},
   "outputs": [],
   "source": [
    "import os"
   ]
  },
  {
   "cell_type": "code",
   "execution_count": 2,
   "metadata": {},
   "outputs": [],
   "source": [
    "os.chdir(\"/Users/vanshbansal/Desktop/Road Accidents\")"
   ]
  },
  {
   "cell_type": "code",
   "execution_count": 3,
   "metadata": {},
   "outputs": [],
   "source": [
    "from dataclasses import dataclass\n",
    "from pathlib import Path\n",
    "\n",
    "@dataclass\n",
    "class ModelTrainerConfig:\n",
    "    root_dir : Path\n",
    "    results : Path\n",
    "    preprocessed_x_train : Path\n",
    "    preprocessed_x_test : Path\n",
    "    preprocessed_y_train : Path\n",
    "    preprocessed_y_test : Path"
   ]
  },
  {
   "cell_type": "code",
   "execution_count": 4,
   "metadata": {},
   "outputs": [],
   "source": [
    "from src.constants import CONFIG_FILE_PATH\n",
    "from src.utils.common import read_yaml,create_directories\n",
    "\n",
    "class ConfigurationManager:\n",
    "    def __init__(self , config_file_path = CONFIG_FILE_PATH):\n",
    "        config = read_yaml(config_file_path)\n",
    "\n",
    "        self.config = config\n",
    "\n",
    "    def get_model_trainer_config(self) -> ModelTrainerConfig:\n",
    "        config = self.config.model_trainer\n",
    "        create_directories([config.root_dir])\n",
    "\n",
    "        model_trainer_config = ModelTrainerConfig(\n",
    "            root_dir = config.root_dir,\n",
    "            results = config.results,\n",
    "            preprocessed_x_train = config.preprocessed_x_train,\n",
    "            preprocessed_x_test = config.preprocessed_x_test,\n",
    "            preprocessed_y_train = config.preprocessed_y_train,\n",
    "            preprocessed_y_test = config.preprocessed_y_test,\n",
    "        )\n",
    "\n",
    "        return model_trainer_config\n"
   ]
  },
  {
   "cell_type": "code",
   "execution_count": 9,
   "metadata": {},
   "outputs": [],
   "source": [
    "import matplotlib\n",
    "import numpy as np\n",
    "import pandas as pd\n",
    "import matplotlib.pyplot as plt\n",
    "from sklearn.model_selection import train_test_split\n",
    "from sklearn.compose import ColumnTransformer\n",
    "from sklearn.impute import SimpleImputer, KNNImputer\n",
    "from sklearn.preprocessing import OneHotEncoder\n",
    "from sklearn.preprocessing import MinMaxScaler\n",
    "from sklearn.pipeline import Pipeline,make_pipeline\n",
    "from sklearn.feature_selection import SelectKBest,chi2\n",
    "from sklearn.tree import DecisionTreeClassifier\n",
    "#from ydata_profiling import ProfileReport\n",
    "from sklearn.metrics import accuracy_score\n",
    "import scipy.stats as stats\n",
    "from sklearn.linear_model import LogisticRegression\n",
    "from sklearn.metrics import accuracy_score, precision_score, recall_score, f1_score\n",
    "from sklearn.neighbors import KNeighborsClassifier\n",
    "\n",
    "class ModelTrainer:\n",
    "    def __init__(self , config: ModelTrainerConfig):\n",
    "        self.config = config\n",
    "    \n",
    "    def log_metrics(self , y_test , y_pred , model_name:str):\n",
    "        # Calculate metrics\n",
    "        acc_score = accuracy_score(y_test, y_pred)\n",
    "        precision = precision_score(y_test, y_pred, average='weighted')  \n",
    "        recall = recall_score(y_test, y_pred, average='weighted')        \n",
    "        f1 = f1_score(y_test, y_pred, average='weighted') \n",
    "\n",
    "        metrics_file_path = self.config.results  \n",
    "        with open(metrics_file_path, 'a') as file:\n",
    "            file.write(f\"Model Evaluation Metrics for {model_name} model:\\n\")\n",
    "            file.write(f\"Accuracy: {acc_score:.4f}\\n\")\n",
    "            file.write(f\"Precision: {precision:.4f}\\n\")\n",
    "            file.write(f\"Recall: {recall:.4f}\\n\")\n",
    "            file.write(f\"F1 Score: {f1:.4f}\\n\")\n",
    "            file.write(f\"\\n\\n\")\n",
    "\n",
    "\n",
    "    def LogisticRegression(self , x_train,y_train , x_test , y_test):\n",
    "        lr = LogisticRegression()\n",
    "        lr.fit(x_train , y_train)\n",
    "\n",
    "        y_pred = lr.predict(x_test)\n",
    "\n",
    "        self.log_metrics(y_test , y_pred , \"Logistic Regression\")\n",
    "    \n",
    "    def KNN(self , x_train , y_train , x_test , y_test):\n",
    "        knn = KNeighborsClassifier()\n",
    "        knn.fit(x_train , y_train)\n",
    "\n",
    "        y_pred = knn.predict(x_test)\n",
    "\n",
    "        self.log_metrics(y_test , y_pred , \"KNN\")\n",
    "\n",
    "    def start_model_training(self):\n",
    "        x_train = np.load(self.config.preprocessed_x_train)\n",
    "        x_test = np.load(self.config.preprocessed_x_test)\n",
    "        y_train = np.load(self.config.preprocessed_y_train)\n",
    "        y_test = np.load(self.config.preprocessed_y_test)\n",
    "\n",
    "        self.LogisticRegression(x_train , y_train , x_test , y_test)\n",
    "        self.KNN(x_train , y_train , x_test , y_test)\n"
   ]
  },
  {
   "cell_type": "code",
   "execution_count": 11,
   "metadata": {},
   "outputs": [
    {
     "name": "stdout",
     "output_type": "stream",
     "text": [
      "[2025-01-11 13:51:06,926: INFO: common: yaml file: config.yaml loaded successfully]\n",
      "[2025-01-11 13:51:06,928: INFO: common: created directory at: artifacts/model_trainer]\n"
     ]
    },
    {
     "name": "stderr",
     "output_type": "stream",
     "text": [
      "/Users/vanshbansal/Desktop/Road Accidents/venv/lib/python3.9/site-packages/sklearn/metrics/_classification.py:1565: UndefinedMetricWarning: Precision is ill-defined and being set to 0.0 in labels with no predicted samples. Use `zero_division` parameter to control this behavior.\n",
      "  _warn_prf(average, modifier, f\"{metric.capitalize()} is\", len(result))\n",
      "/Users/vanshbansal/Desktop/Road Accidents/venv/lib/python3.9/site-packages/sklearn/metrics/_classification.py:1565: UndefinedMetricWarning: Precision is ill-defined and being set to 0.0 in labels with no predicted samples. Use `zero_division` parameter to control this behavior.\n",
      "  _warn_prf(average, modifier, f\"{metric.capitalize()} is\", len(result))\n"
     ]
    }
   ],
   "source": [
    "try:\n",
    "    config = ConfigurationManager()\n",
    "    model_trainer_config = config.get_model_trainer_config()\n",
    "    model_trainer = ModelTrainer(config=model_trainer_config)\n",
    "    model_trainer.start_model_training()\n",
    "except Exception as e:\n",
    "    raise e"
   ]
  },
  {
   "cell_type": "code",
   "execution_count": null,
   "metadata": {},
   "outputs": [],
   "source": []
  }
 ],
 "metadata": {
  "kernelspec": {
   "display_name": "venv",
   "language": "python",
   "name": "python3"
  },
  "language_info": {
   "codemirror_mode": {
    "name": "ipython",
    "version": 3
   },
   "file_extension": ".py",
   "mimetype": "text/x-python",
   "name": "python",
   "nbconvert_exporter": "python",
   "pygments_lexer": "ipython3",
   "version": "3.9.21"
  }
 },
 "nbformat": 4,
 "nbformat_minor": 2
}
