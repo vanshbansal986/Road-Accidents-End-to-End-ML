{
 "cells": [
  {
   "cell_type": "code",
   "execution_count": 1,
   "metadata": {},
   "outputs": [],
   "source": [
    "import os"
   ]
  },
  {
   "cell_type": "code",
   "execution_count": 2,
   "metadata": {},
   "outputs": [
    {
     "data": {
      "text/plain": [
       "'/Users/vanshbansal/Desktop/Road Accidents'"
      ]
     },
     "execution_count": 2,
     "metadata": {},
     "output_type": "execute_result"
    }
   ],
   "source": [
    "%pwd\n",
    "os.chdir(\"/Users/vanshbansal/Desktop/Road Accidents\")\n",
    "%pwd"
   ]
  },
  {
   "cell_type": "code",
   "execution_count": 3,
   "metadata": {},
   "outputs": [],
   "source": [
    "from dataclasses import dataclass\n",
    "from pathlib import Path\n",
    "\n",
    "@dataclass\n",
    "class DataIngestionConfig:\n",
    "    root_dir: Path\n",
    "    curr_data_path: Path\n",
    "    store_data_path: Path "
   ]
  },
  {
   "cell_type": "code",
   "execution_count": 4,
   "metadata": {},
   "outputs": [],
   "source": [
    "from src.utils.common import read_yaml , create_directories\n",
    "from src.constants import CONFIG_FILE_PATH\n",
    "\n",
    "class ConfigurationManager:\n",
    "    def __init__(self ,config_filepath=CONFIG_FILE_PATH):\n",
    "        \n",
    "        self.config = read_yaml(config_filepath)\n",
    "\n",
    "        create_directories([self.config.artifacts_root])\n",
    "    \n",
    "    def get_data_ingestion_config(self) -> DataIngestionConfig:\n",
    "        config = self.config.data_ingestion\n",
    "        create_directories([config.root_dir])\n",
    "\n",
    "        data_ingestion_config = DataIngestionConfig(\n",
    "            root_dir = config.root_dir,\n",
    "            curr_data_path = config.curr_data_path,\n",
    "            store_data_path = config.store_data_path\n",
    "        )\n",
    "\n",
    "        return data_ingestion_config\n"
   ]
  },
  {
   "cell_type": "code",
   "execution_count": 7,
   "metadata": {},
   "outputs": [],
   "source": [
    "import os\n",
    "from src import logger\n",
    "import pandas as pd\n",
    "\n",
    "class DataIngestion:\n",
    "    def __init__(self , config: DataIngestionConfig):\n",
    "        try:\n",
    "            self.config = config\n",
    "        except Exception as e:\n",
    "            raise e\n",
    "    \n",
    "    def store_data(self):\n",
    "        # store the path of file\n",
    "        curr_file_path = self.config.curr_data_path\n",
    "        store_file_path = self.config.store_data_path\n",
    "\n",
    "        # Define the size of the sample\n",
    "        sample_size = 600000\n",
    "        chunk_size = 10000  # Adjust based on your system's memory capacity\n",
    "\n",
    "        # Initialize an empty list to store sampled rows\n",
    "        sampled_rows = []\n",
    "\n",
    "        # Iterate over the CSV file in chunks\n",
    "        for chunk in pd.read_csv(curr_file_path, chunksize=chunk_size):\n",
    "            # Randomly sample rows from the current chunk\n",
    "            sampled_chunk = chunk.sample(n=min(sample_size, len(chunk)))\n",
    "            sampled_rows.append(sampled_chunk)\n",
    "            sample_size -= len(sampled_chunk)\n",
    "            if sample_size <= 0:\n",
    "                break\n",
    "            \n",
    "        # Concatenate all sampled chunks into a single DataFrame\n",
    "        sampled_data = pd.concat(sampled_rows)\n",
    "\n",
    "        # Save the sampled data to a new CSV file\n",
    "        sampled_data.to_csv(store_file_path, index=False)"
   ]
  },
  {
   "cell_type": "code",
   "execution_count": 8,
   "metadata": {},
   "outputs": [
    {
     "name": "stdout",
     "output_type": "stream",
     "text": [
      "[2025-01-11 03:31:03,999: INFO: common: yaml file: config.yaml loaded successfully]\n"
     ]
    },
    {
     "name": "stdout",
     "output_type": "stream",
     "text": [
      "[2025-01-11 03:31:04,008: INFO: common: created directory at: artifacts]\n",
      "[2025-01-11 03:31:04,013: INFO: common: created directory at: artifacts/data_ingestion]\n"
     ]
    }
   ],
   "source": [
    "try:\n",
    "    config = ConfigurationManager()\n",
    "    data_ingestion_config = config.get_data_ingestion_config()\n",
    "    data_ingestion = DataIngestion(config=data_ingestion_config)\n",
    "    data_ingestion.store_data()\n",
    "except Exception as e:\n",
    "    raise e"
   ]
  },
  {
   "cell_type": "code",
   "execution_count": null,
   "metadata": {},
   "outputs": [],
   "source": []
  }
 ],
 "metadata": {
  "kernelspec": {
   "display_name": "venv",
   "language": "python",
   "name": "python3"
  },
  "language_info": {
   "codemirror_mode": {
    "name": "ipython",
    "version": 3
   },
   "file_extension": ".py",
   "mimetype": "text/x-python",
   "name": "python",
   "nbconvert_exporter": "python",
   "pygments_lexer": "ipython3",
   "version": "3.9.21"
  }
 },
 "nbformat": 4,
 "nbformat_minor": 2
}
